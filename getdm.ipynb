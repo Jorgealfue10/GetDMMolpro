{
 "cells": [
  {
   "cell_type": "code",
   "execution_count": 30,
   "metadata": {},
   "outputs": [],
   "source": [
    "import numpy as np"
   ]
  },
  {
   "cell_type": "code",
   "execution_count": 29,
   "metadata": {},
   "outputs": [],
   "source": [
    "dimensions = {\n",
    "    '7300.2': 6,\n",
    "    '7100.2': 5,\n",
    "    '7400.2': 1,\n",
    "    '7600.2': 2\n",
    "}\n",
    "\n",
    "coordinates = {\n",
    "    \"X\": 0,\n",
    "    \"Y\": 1,\n",
    "    \"Z\": 2\n",
    "}"
   ]
  },
  {
   "cell_type": "code",
   "execution_count": 135,
   "metadata": {},
   "outputs": [
    {
     "name": "stdout",
     "output_type": "stream",
     "text": [
      "6 6\n",
      "0 2650 2743 7300.2 7300.2\n",
      "5 6\n",
      "1 2889 2928 7300.2 7100.2\n",
      "6 5\n",
      "2 3038 3077 7100.2 7300.2\n",
      "5 5\n",
      "3 3187 3256 7100.2 7100.2\n",
      "1 1\n",
      "4 3366 3379 7400.2 7400.2\n",
      "2 1\n",
      "5 3405 3416 7400.2 7600.2\n",
      "1 2\n",
      "6 3442 3454 7600.2 7400.2\n",
      "2 2\n",
      "7 3480 3501 7600.2 7600.2\n"
     ]
    }
   ],
   "source": [
    "with open(\"/home/kokokos/TFM/PH+/DM/mrci-PHM-001.out\") as f:\n",
    "    lines = f.readlines()\n",
    "istart, istop = [], []\n",
    "i,j = 0, 0\n",
    "check = False\n",
    "\n",
    "nstates = 14\n",
    "\n",
    "dm_tot_comp = np.zeros((nstates, nstates,3))\n",
    "dm_tot = np.zeros((nstates, nstates))\n",
    "\n",
    "for iline, line in enumerate(lines):\n",
    "    #istart = 0\n",
    "    if \"Transition moment calculation\" in line:\n",
    "        #istart[i] = iline\n",
    "        istart.append(iline)\n",
    "        #i += 1\n",
    "        check = True\n",
    "        #istop = 0\n",
    "    if '**********************************************************************************************************************************' in line and check:\n",
    "        istop.append(iline)\n",
    "        #istop[j] = iline\n",
    "        #j += 1\n",
    "        check = False\n",
    "    #if (istart != 0 and istop != 0):\n",
    "        #print(istart, istop)\n",
    "        #print(lines[istart:istop],istart,istop)\n",
    "        #dm = extract_matrix_elements(lines[istart:istop])\n",
    "        #print(dm)\n",
    "        #istart=0\n",
    "\n",
    "#print(istart,istop,len(istart),len(istop))\n",
    "\n",
    "for i in range(len(istart)):\n",
    "    dm,file2,file1 = extract_matrix_elements(lines[istart[i]:istop[i]])\n",
    "    #print(dm)\n",
    "    print(i,istart[i],istop[i],file1,file2)\n",
    "    if file1 == \"7300.2\":\n",
    "        if file2 == file1:\n",
    "            dm_tot_comp[:6,:6,:] = dm\n",
    "        elif file2 == \"7100.2\":\n",
    "            dm_tot_comp[:6,6:11,:] = dm\n",
    "    elif file1 == \"7100.2\":\n",
    "        if file2 == file1:\n",
    "            dm_tot_comp[6:11,6:11,:] = dm\n",
    "        elif file2 == \"7400.2\":\n",
    "            dm_tot_comp[6:11,:6,:] = dm\n",
    "    elif file1 == \"7400.2\":\n",
    "        if file2 == file1:\n",
    "            dm_tot_comp[11,11,:] = dm\n",
    "        elif file2 == \"7600.2\":\n",
    "            dm_tot_comp[11,12:,:] = dm\n",
    "    elif file1 == \"7600.2\":\n",
    "        if file2 == file1:\n",
    "            dm_tot_comp[12:,12:,:] = dm\n",
    "        elif file2 == \"7400.2\":\n",
    "            dm_tot_comp[12:,11:11,:] = dm\n",
    "\n",
    "for i in range(nstates):\n",
    "    for j in range(nstates):\n",
    "        dm_tot[i,j] = np.sqrt((dm_tot_comp[i,j,0])**2 + (dm_tot_comp[i,j,1])**2 + (dm_tot_comp[i,j,2])**2)\n",
    "        "
   ]
  },
  {
   "cell_type": "code",
   "execution_count": 130,
   "metadata": {},
   "outputs": [],
   "source": [
    "def extract_matrix_elements(lines):\n",
    "    file1 = lines[4].split()[5]\n",
    "    file2 = lines[5].split()[5]\n",
    "    dim_ket = dimensions[file1]\n",
    "    dim_bra = dimensions[file2]\n",
    "    dm = np.zeros((dim_bra, dim_ket, 3))\n",
    "    print(dim_ket,dim_bra)\n",
    "    for line in lines[6:]:\n",
    "        if '!MRCI expec' in line or '!MRCI trans' in line:\n",
    "            #print(line)\n",
    "            splited = line.split()\n",
    "            if \"L\" in splited[2]:\n",
    "                continue\n",
    "            dims = splited[2]\n",
    "            dim1, dim2, coor = int(dims[1]) - 1, int(dims[9]) - 1, coordinates[dims[7]]\n",
    "           # print(file1, file2, dim_ket, dim_bra, dim1, dim2, coor)\n",
    "            \n",
    "            dm[dim1, dim2, coor] = float(splited[3])\n",
    "\n",
    "            #print(dm)\n",
    "    return dm,file1,file2"
   ]
  },
  {
   "cell_type": "code",
   "execution_count": 36,
   "metadata": {},
   "outputs": [
    {
     "name": "stdout",
     "output_type": "stream",
     "text": [
      "7600.2 2 2 0 0 2 -0.10182620001\n",
      "7600.2 2 2 0 1 1 -0.524553996387\n",
      "7600.2 2 2 1 0 1 -0.524553996387\n",
      "7600.2 2 2 1 1 2 0.295308659711\n"
     ]
    }
   ],
   "source": [
    "extract_matrix_elements(lines[3480:3501])"
   ]
  },
  {
   "cell_type": "code",
   "execution_count": null,
   "metadata": {},
   "outputs": [],
   "source": []
  }
 ],
 "metadata": {
  "kernelspec": {
   "display_name": "base",
   "language": "python",
   "name": "python3"
  },
  "language_info": {
   "codemirror_mode": {
    "name": "ipython",
    "version": 3
   },
   "file_extension": ".py",
   "mimetype": "text/x-python",
   "name": "python",
   "nbconvert_exporter": "python",
   "pygments_lexer": "ipython3",
   "version": "3.9.16"
  },
  "orig_nbformat": 4
 },
 "nbformat": 4,
 "nbformat_minor": 2
}
